{
  "cells": [
    {
      "cell_type": "markdown",
      "metadata": {
        "id": "-R6XnyNjw0oJ"
      },
      "source": [
        "# EDA"
      ]
    },
    {
      "cell_type": "markdown",
      "metadata": {
        "id": "7BgmstjKxJuk"
      },
      "source": [
        "* ip: ip address of click.\n",
        "\n",
        "\n",
        "* app: app id for marketing.\n",
        "\n",
        "\n",
        "* device: device type id of user mobile phone (e.g., iphone 6 plus, iphone 7, huawei mate 7, etc.)\n",
        "\n",
        "* os: os version id of user mobile phone\n",
        "\n",
        "* channel: channel id of mobile ad publisher\n",
        "\n",
        "* click_time: timestamp of click (UTC)\n",
        "\n",
        "* attributed_time: if user download the app for after clicking an ad, this is the time of the app download\n",
        "\n",
        "* is_attributed: the target that is to be predicted, indic"
      ]
    },
    {
      "cell_type": "code",
      "execution_count": 1,
      "metadata": {
        "id": "fNcpLoJzuQxn"
      },
      "outputs": [],
      "source": [
        "import pandas as pd\n",
        "import numpy as np\n",
        "df = pd.read_csv('./data/sample.csv')"
      ]
    },
    {
      "cell_type": "code",
      "execution_count": 3,
      "metadata": {
        "colab": {
          "base_uri": "https://localhost:8080/",
          "height": 442
        },
        "id": "79OcwaruI_kB",
        "outputId": "a4944d2c-fc9d-4b4d-d6ca-c353d56dc221"
      },
      "outputs": [],
      "source": [
        "one = df[df['is_attributed']==1]\n",
        "zero = df[df['is_attributed']==0].sample(len(one))\n",
        "\n",
        "df = pd.concat([one,zero])    "
      ]
    },
    {
      "cell_type": "code",
      "execution_count": 6,
      "metadata": {
        "colab": {
          "base_uri": "https://localhost:8080/",
          "height": 456
        },
        "id": "2cK_1zPcmdnN",
        "outputId": "8d45de1e-9e34-41cb-b0c7-3e9c30f08120"
      },
      "outputs": [
        {
          "data": {
            "text/html": [
              "<div>\n",
              "<style scoped>\n",
              "    .dataframe tbody tr th:only-of-type {\n",
              "        vertical-align: middle;\n",
              "    }\n",
              "\n",
              "    .dataframe tbody tr th {\n",
              "        vertical-align: top;\n",
              "    }\n",
              "\n",
              "    .dataframe thead th {\n",
              "        text-align: right;\n",
              "    }\n",
              "</style>\n",
              "<table border=\"1\" class=\"dataframe\">\n",
              "  <thead>\n",
              "    <tr style=\"text-align: right;\">\n",
              "      <th></th>\n",
              "      <th>Unnamed: 0</th>\n",
              "      <th>ip</th>\n",
              "      <th>app</th>\n",
              "      <th>device</th>\n",
              "      <th>os</th>\n",
              "      <th>channel</th>\n",
              "      <th>click_time</th>\n",
              "      <th>attributed_time</th>\n",
              "      <th>is_attributed</th>\n",
              "    </tr>\n",
              "  </thead>\n",
              "  <tbody>\n",
              "    <tr>\n",
              "      <th>0</th>\n",
              "      <td>1856384</td>\n",
              "      <td>85636</td>\n",
              "      <td>2</td>\n",
              "      <td>1</td>\n",
              "      <td>16</td>\n",
              "      <td>219</td>\n",
              "      <td>2017-11-09 05:09:46</td>\n",
              "      <td>2017-11-09 05:43:10</td>\n",
              "      <td>1</td>\n",
              "    </tr>\n",
              "    <tr>\n",
              "      <th>5</th>\n",
              "      <td>1884696</td>\n",
              "      <td>318386</td>\n",
              "      <td>96</td>\n",
              "      <td>311</td>\n",
              "      <td>24</td>\n",
              "      <td>213</td>\n",
              "      <td>2017-11-09 05:47:50</td>\n",
              "      <td>2017-11-09 08:56:18</td>\n",
              "      <td>1</td>\n",
              "    </tr>\n",
              "    <tr>\n",
              "      <th>6</th>\n",
              "      <td>556621</td>\n",
              "      <td>87874</td>\n",
              "      <td>19</td>\n",
              "      <td>0</td>\n",
              "      <td>38</td>\n",
              "      <td>210</td>\n",
              "      <td>2017-11-07 11:00:25</td>\n",
              "      <td>2017-11-07 15:40:32</td>\n",
              "      <td>1</td>\n",
              "    </tr>\n",
              "    <tr>\n",
              "      <th>10</th>\n",
              "      <td>1346631</td>\n",
              "      <td>249047</td>\n",
              "      <td>19</td>\n",
              "      <td>0</td>\n",
              "      <td>0</td>\n",
              "      <td>213</td>\n",
              "      <td>2017-11-08 11:53:06</td>\n",
              "      <td>2017-11-08 11:54:17</td>\n",
              "      <td>1</td>\n",
              "    </tr>\n",
              "    <tr>\n",
              "      <th>11</th>\n",
              "      <td>2152694</td>\n",
              "      <td>326680</td>\n",
              "      <td>10</td>\n",
              "      <td>1</td>\n",
              "      <td>7</td>\n",
              "      <td>113</td>\n",
              "      <td>2017-11-09 12:22:08</td>\n",
              "      <td>2017-11-09 12:22:30</td>\n",
              "      <td>1</td>\n",
              "    </tr>\n",
              "    <tr>\n",
              "      <th>...</th>\n",
              "      <td>...</td>\n",
              "      <td>...</td>\n",
              "      <td>...</td>\n",
              "      <td>...</td>\n",
              "      <td>...</td>\n",
              "      <td>...</td>\n",
              "      <td>...</td>\n",
              "      <td>...</td>\n",
              "      <td>...</td>\n",
              "    </tr>\n",
              "    <tr>\n",
              "      <th>52766</th>\n",
              "      <td>1376371</td>\n",
              "      <td>75670</td>\n",
              "      <td>18</td>\n",
              "      <td>1</td>\n",
              "      <td>2</td>\n",
              "      <td>107</td>\n",
              "      <td>2017-11-08 12:34:04</td>\n",
              "      <td>NaN</td>\n",
              "      <td>0</td>\n",
              "    </tr>\n",
              "    <tr>\n",
              "      <th>17427</th>\n",
              "      <td>2279696</td>\n",
              "      <td>34486</td>\n",
              "      <td>15</td>\n",
              "      <td>1</td>\n",
              "      <td>3</td>\n",
              "      <td>245</td>\n",
              "      <td>2017-11-09 15:22:02</td>\n",
              "      <td>NaN</td>\n",
              "      <td>0</td>\n",
              "    </tr>\n",
              "    <tr>\n",
              "      <th>31690</th>\n",
              "      <td>630706</td>\n",
              "      <td>144735</td>\n",
              "      <td>12</td>\n",
              "      <td>1</td>\n",
              "      <td>3</td>\n",
              "      <td>409</td>\n",
              "      <td>2017-11-07 12:52:06</td>\n",
              "      <td>NaN</td>\n",
              "      <td>0</td>\n",
              "    </tr>\n",
              "    <tr>\n",
              "      <th>23443</th>\n",
              "      <td>1806602</td>\n",
              "      <td>26666</td>\n",
              "      <td>11</td>\n",
              "      <td>1</td>\n",
              "      <td>22</td>\n",
              "      <td>137</td>\n",
              "      <td>2017-11-09 04:09:43</td>\n",
              "      <td>NaN</td>\n",
              "      <td>0</td>\n",
              "    </tr>\n",
              "    <tr>\n",
              "      <th>4724</th>\n",
              "      <td>491470</td>\n",
              "      <td>143457</td>\n",
              "      <td>2</td>\n",
              "      <td>1</td>\n",
              "      <td>19</td>\n",
              "      <td>477</td>\n",
              "      <td>2017-11-07 09:22:51</td>\n",
              "      <td>NaN</td>\n",
              "      <td>0</td>\n",
              "    </tr>\n",
              "  </tbody>\n",
              "</table>\n",
              "<p>22732 rows × 9 columns</p>\n",
              "</div>"
            ],
            "text/plain": [
              "       Unnamed: 0      ip  app  device  os  channel           click_time  \\\n",
              "0         1856384   85636    2       1  16      219  2017-11-09 05:09:46   \n",
              "5         1884696  318386   96     311  24      213  2017-11-09 05:47:50   \n",
              "6          556621   87874   19       0  38      210  2017-11-07 11:00:25   \n",
              "10        1346631  249047   19       0   0      213  2017-11-08 11:53:06   \n",
              "11        2152694  326680   10       1   7      113  2017-11-09 12:22:08   \n",
              "...           ...     ...  ...     ...  ..      ...                  ...   \n",
              "52766     1376371   75670   18       1   2      107  2017-11-08 12:34:04   \n",
              "17427     2279696   34486   15       1   3      245  2017-11-09 15:22:02   \n",
              "31690      630706  144735   12       1   3      409  2017-11-07 12:52:06   \n",
              "23443     1806602   26666   11       1  22      137  2017-11-09 04:09:43   \n",
              "4724       491470  143457    2       1  19      477  2017-11-07 09:22:51   \n",
              "\n",
              "           attributed_time  is_attributed  \n",
              "0      2017-11-09 05:43:10              1  \n",
              "5      2017-11-09 08:56:18              1  \n",
              "6      2017-11-07 15:40:32              1  \n",
              "10     2017-11-08 11:54:17              1  \n",
              "11     2017-11-09 12:22:30              1  \n",
              "...                    ...            ...  \n",
              "52766                  NaN              0  \n",
              "17427                  NaN              0  \n",
              "31690                  NaN              0  \n",
              "23443                  NaN              0  \n",
              "4724                   NaN              0  \n",
              "\n",
              "[22732 rows x 9 columns]"
            ]
          },
          "execution_count": 6,
          "metadata": {},
          "output_type": "execute_result"
        }
      ],
      "source": [
        "df"
      ]
    },
    {
      "cell_type": "code",
      "execution_count": null,
      "metadata": {
        "colab": {
          "base_uri": "https://localhost:8080/"
        },
        "id": "UJGUxdFaulf1",
        "outputId": "d29c3cb9-8df4-4d62-ff0d-5c9b8f1c5f30"
      },
      "outputs": [
        {
          "name": "stdout",
          "output_type": "stream",
          "text": [
            "<class 'pandas.core.frame.DataFrame'>\n",
            "RangeIndex: 2300561 entries, 0 to 2300560\n",
            "Data columns (total 8 columns):\n",
            " #   Column           Dtype \n",
            "---  ------           ----- \n",
            " 0   ip               int64 \n",
            " 1   app              int64 \n",
            " 2   device           int64 \n",
            " 3   os               int64 \n",
            " 4   channel          int64 \n",
            " 5   click_time       object\n",
            " 6   attributed_time  object\n",
            " 7   is_attributed    int64 \n",
            "dtypes: int64(6), object(2)\n",
            "memory usage: 140.4+ MB\n"
          ]
        }
      ],
      "source": [
        "df.info()"
      ]
    },
    {
      "cell_type": "code",
      "execution_count": null,
      "metadata": {
        "colab": {
          "base_uri": "https://localhost:8080/"
        },
        "id": "7DJBi_F9OZb5",
        "outputId": "c69fe5cd-50b4-4191-f936-41532cc98a26"
      },
      "outputs": [
        {
          "data": {
            "text/plain": [
              "ip                       0\n",
              "app                      0\n",
              "device                   0\n",
              "os                       0\n",
              "channel                  0\n",
              "click_time               0\n",
              "attributed_time    1843715\n",
              "is_attributed            0\n",
              "dtype: int64"
            ]
          },
          "execution_count": 28,
          "metadata": {},
          "output_type": "execute_result"
        }
      ],
      "source": [
        "df.isna().sum()"
      ]
    },
    {
      "cell_type": "markdown",
      "metadata": {
        "id": "sMFnMCigZ1MG"
      },
      "source": [
        "visual"
      ]
    },
    {
      "cell_type": "code",
      "execution_count": null,
      "metadata": {
        "id": "jSszNXEyZ2Fu"
      },
      "outputs": [],
      "source": [
        "import seaborn as sns\n",
        "import matplotlib.pyplot as plt"
      ]
    },
    {
      "cell_type": "code",
      "execution_count": null,
      "metadata": {
        "colab": {
          "base_uri": "https://localhost:8080/",
          "height": 369
        },
        "id": "Wtas4uYZZ95h",
        "outputId": "1c275fd6-1103-48d1-ac3a-559b618a454c"
      },
      "outputs": [
        {
          "name": "stderr",
          "output_type": "stream",
          "text": [
            "/usr/local/lib/python3.7/dist-packages/seaborn/_decorators.py:43: FutureWarning: Pass the following variable as a keyword arg: x. From version 0.12, the only valid positional argument will be `data`, and passing other arguments without an explicit keyword will result in an error or misinterpretation.\n",
            "  FutureWarning\n"
          ]
        },
        {
          "data": {
            "text/plain": [
              "<matplotlib.axes._subplots.AxesSubplot at 0x7fa8a4053590>"
            ]
          },
          "execution_count": 8,
          "metadata": {},
          "output_type": "execute_result"
        },
        {
          "data": {
            "image/png": "[encoded data removed]",
            "text/plain": [
              "<Figure size 432x288 with 1 Axes>"
            ]
          },
          "metadata": {
            "needs_background": "light"
          },
          "output_type": "display_data"
        }
      ],
      "source": [
        "sns.countplot(df['is_attributed'])"
      ]
    },
    {
      "cell_type": "code",
      "execution_count": null,
      "metadata": {
        "colab": {
          "base_uri": "https://localhost:8080/",
          "height": 411
        },
        "id": "JIaEavfzayHq",
        "outputId": "0ffd9eb3-cc8d-40b3-e4a9-4ee30161c4b1"
      },
      "outputs": [
        {
          "data": {
            "text/plain": [
              "<matplotlib.axes._subplots.AxesSubplot at 0x7fa8a19fc150>"
            ]
          },
          "execution_count": 21,
          "metadata": {},
          "output_type": "execute_result"
        },
        {
          "data": {
            "image/png": "[encoded data removed]",
            "text/plain": [
              "<Figure size 1440x432 with 1 Axes>"
            ]
          },
          "metadata": {
            "needs_background": "light"
          },
          "output_type": "display_data"
        }
      ],
      "source": [
        "mm = df.sample(2000)\n",
        "plt.rcParams[\"figure.figsize\"] = (20,6)\n",
        "# sns.countplot(x=mm['channel'],hue=mm['is_attributed'])\n",
        "# sns.countplot(x=mm['os'],hue=mm['is_attributed'])\n",
        "# sns.countplot(x=mm['device'],hue=mm['is_attributed'])\n",
        "\n",
        "# sns.countplot(x=mm['ip'],hue=mm['is_attributed'])\n",
        "sns.countplot(x=mm['app'],hue=mm['is_attributed'])\n",
        "\n"
      ]
    },
    {
      "cell_type": "code",
      "execution_count": null,
      "metadata": {
        "id": "9OMq0K1Ndpoo"
      },
      "outputs": [],
      "source": [
        "date = pd.to_datetime(df['click_time'], format='%Y%m%d %H:%M:%S')"
      ]
    },
    {
      "cell_type": "code",
      "execution_count": null,
      "metadata": {
        "id": "0EMTRlb7d2Ne"
      },
      "outputs": [],
      "source": [
        "hour = date.apply(lambda x: x.hour)\n",
        "df['h'] = hour"
      ]
    },
    {
      "cell_type": "code",
      "execution_count": null,
      "metadata": {
        "id": "MlxOPupwfNkt"
      },
      "outputs": [],
      "source": [
        "year = date.apply(lambda x: x.year)\n",
        "# df['h'] = hour"
      ]
    },
    {
      "cell_type": "code",
      "execution_count": null,
      "metadata": {
        "id": "mFk8oftiflbo"
      },
      "outputs": [],
      "source": [
        "mounth = date.apply(lambda x: x.month)\n",
        "df['m'] = mounth"
      ]
    },
    {
      "cell_type": "code",
      "execution_count": null,
      "metadata": {
        "colab": {
          "base_uri": "https://localhost:8080/"
        },
        "id": "u-vFKybefWY7",
        "outputId": "e1b45eac-c21f-409a-ec68-a79170e3d423"
      },
      "outputs": [
        {
          "data": {
            "text/plain": [
              "2017    397326\n",
              "Name: click_time, dtype: int64"
            ]
          },
          "execution_count": 16,
          "metadata": {},
          "output_type": "execute_result"
        }
      ],
      "source": [
        "year.value_counts()"
      ]
    },
    {
      "cell_type": "code",
      "execution_count": null,
      "metadata": {
        "colab": {
          "base_uri": "https://localhost:8080/"
        },
        "id": "FExLWVXQf6Qb",
        "outputId": "a351bc59-7214-49d8-b00e-35ef54556b8d"
      },
      "outputs": [
        {
          "data": {
            "text/plain": [
              "11    397326\n",
              "Name: click_time, dtype: int64"
            ]
          },
          "execution_count": 17,
          "metadata": {},
          "output_type": "execute_result"
        }
      ],
      "source": [
        "mounth.value_counts()"
      ]
    },
    {
      "cell_type": "code",
      "execution_count": null,
      "metadata": {
        "colab": {
          "base_uri": "https://localhost:8080/",
          "height": 411
        },
        "id": "TbqN5Sz8bqlt",
        "outputId": "75518c8a-bef3-41b7-8c81-7f75dce04518"
      },
      "outputs": [
        {
          "data": {
            "text/plain": [
              "Text(0.5, 0, 'hour of day')"
            ]
          },
          "execution_count": 18,
          "metadata": {},
          "output_type": "execute_result"
        },
        {
          "data": {
            "image/png": "[encoded data removed]",
            "text/plain": [
              "<Figure size 1440x432 with 1 Axes>"
            ]
          },
          "metadata": {
            "needs_background": "light"
          },
          "output_type": "display_data"
        }
      ],
      "source": [
        "# v = hours.values_count()\n",
        "sns.countplot(x=df['h'],hue=df['is_attributed'])\n",
        "plt.xlabel('hour of day')"
      ]
    },
    {
      "cell_type": "code",
      "execution_count": null,
      "metadata": {
        "colab": {
          "base_uri": "https://localhost:8080/",
          "height": 411
        },
        "id": "g3Fd3VH2gJhP",
        "outputId": "572827fb-65fa-4ce6-e6a3-44ced71d1e07"
      },
      "outputs": [
        {
          "data": {
            "text/plain": [
              "Text(0.5, 0, 'day of week')"
            ]
          },
          "execution_count": 19,
          "metadata": {},
          "output_type": "execute_result"
        },
        {
          "data": {
            "image/png": "[encoded data removed]",
            "text/plain": [
              "<Figure size 576x432 with 1 Axes>"
            ]
          },
          "metadata": {
            "needs_background": "light"
          },
          "output_type": "display_data"
        }
      ],
      "source": [
        "df['d'] = date.apply(lambda x: x.dayofweek)\n",
        "plt.rcParams[\"figure.figsize\"] = (8,6)\n",
        "# plt.rcParams[\"figure.figsize\"] = (20,6)\n",
        "\n",
        "sns.countplot(x=df['d'],hue=df['is_attributed'])\n",
        "plt.xlabel('day of week')"
      ]
    },
    {
      "cell_type": "code",
      "execution_count": null,
      "metadata": {
        "colab": {
          "base_uri": "https://localhost:8080/"
        },
        "id": "Dz22QL97gzax",
        "outputId": "52aa0e71-f729-494b-f6f0-06e0aeb849ca"
      },
      "outputs": [
        {
          "name": "stdout",
          "output_type": "stream",
          "text": [
            "2017-11-06 15:13:23 2017-11-09 16:00:00\n"
          ]
        }
      ],
      "source": [
        "print(min(df['click_time']), max(df['click_time']))"
      ]
    },
    {
      "cell_type": "code",
      "execution_count": null,
      "metadata": {
        "colab": {
          "base_uri": "https://localhost:8080/"
        },
        "id": "t2x9JM8zhWg1",
        "outputId": "1f5237b4-7beb-4d5f-a1db-d368a7959347"
      },
      "outputs": [
        {
          "data": {
            "text/plain": [
              "3      349269\n",
              "12     244537\n",
              "2      222291\n",
              "9      183312\n",
              "18     165412\n",
              "        ...  \n",
              "235         1\n",
              "392         1\n",
              "385         1\n",
              "384         1\n",
              "360         1\n",
              "Name: app, Length: 389, dtype: int64"
            ]
          },
          "execution_count": 43,
          "metadata": {},
          "output_type": "execute_result"
        }
      ],
      "source": [
        "df['app'].value_counts()"
      ]
    },
    {
      "cell_type": "code",
      "execution_count": null,
      "metadata": {
        "colab": {
          "base_uri": "https://localhost:8080/"
        },
        "id": "5q7Z6fDKhX_G",
        "outputId": "e1a78f6e-16ba-4044-b3ce-65b686fc3bf2"
      },
      "outputs": [
        {
          "data": {
            "text/plain": [
              "5348      14804\n",
              "5314      13834\n",
              "73516      8721\n",
              "73487      8623\n",
              "53454      5086\n",
              "          ...  \n",
              "255071        1\n",
              "257118        1\n",
              "259165        1\n",
              "261212        1\n",
              "8196          1\n",
              "Name: ip, Length: 260238, dtype: int64"
            ]
          },
          "execution_count": 45,
          "metadata": {},
          "output_type": "execute_result"
        }
      ],
      "source": [
        "df['ip'].value_counts()"
      ]
    }
  ],
  "metadata": {
    "colab": {
      "name": "fraud.ipynb",
      "provenance": []
    },
    "kernelspec": {
      "display_name": "Python 3",
      "name": "python3"
    },
    "language_info": {
      "codemirror_mode": {
        "name": "ipython",
        "version": 3
      },
      "file_extension": ".py",
      "mimetype": "text/x-python",
      "name": "python",
      "nbconvert_exporter": "python",
      "pygments_lexer": "ipython3",
      "version": "3.8.10"
    }
  },
  "nbformat": 4,
  "nbformat_minor": 0
}
